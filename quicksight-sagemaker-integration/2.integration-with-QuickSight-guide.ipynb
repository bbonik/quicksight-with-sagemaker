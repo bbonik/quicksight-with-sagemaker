{
 "cells": [
  {
   "cell_type": "markdown",
   "id": "b9421f47",
   "metadata": {},
   "source": [
    "# Visualizing Amazon SageMaker machine learning predictions with Amazon QuickSight\n",
    "\n",
    "Updated guide for the relevant [blog post](https://aws.amazon.com/blogs/machine-learning/making-machine-learning-predictions-in-amazon-quicksight-and-amazon-sagemaker)"
   ]
  },
  {
   "cell_type": "markdown",
   "id": "0522f955",
   "metadata": {},
   "source": [
    "## Step 0: Prepare a SageMaker inference pipeline and a test dataset\n",
    "\n",
    "First run the `customer_churn.ipynb`. This notebook will:\n",
    "\n",
    "- Train a SageMaker inference pipeline (preprocessing + model)\n",
    "- Create a test dataset, and upload it to your S3 bucket\n",
    "- Will generate a manifest file that will be needed when importing the dataset to QuickSight"
   ]
  },
  {
   "cell_type": "markdown",
   "id": "f2910d6e",
   "metadata": {},
   "source": [
    "## Step 1: Setup a QuickSight **Enterprise Edition** account\n",
    "\n",
    "Open the AWS Console and navigate to Amazon QuickSight. Select **Sign up for QuickSight**.\n",
    "\n",
    "![example](images/1.png)"
   ]
  },
  {
   "cell_type": "markdown",
   "id": "d2bcfc76",
   "metadata": {},
   "source": [
    "Select the **Enterprise Edition** and click **Continue**\n",
    "\n",
    "![example](images/2.png)\n"
   ]
  },
  {
   "cell_type": "markdown",
   "id": "1fe622f9",
   "metadata": {},
   "source": [
    "You will have to choose a **unique** username. Keep all the other selections to default. Particularly, **don't change the AWS Region**. \n",
    "\n",
    "![example](images/3.png)\n",
    "\n",
    "You can also add additional resources to QuickSight, namely S3 (where the dataset resides) and Amazon SageMaker (for getting ML predictions on the imported dataset). **Check the S3 and SageMaker options**. Alternatively, you can also do this on a later stage, from within QuickSight, by clicking the **Manage QuickShight** option on the upper right corner.\n",
    "\n",
    "![example](images/5.png)\n",
    "\n",
    "When you check the S3 option, you will have to specifically select the S3 Bucket that you created, in order for QuickSight to be able to access the new dataset.\n",
    "\n",
    "![example](images/6.png)"
   ]
  },
  {
   "cell_type": "markdown",
   "id": "4407cf7b",
   "metadata": {},
   "source": [
    "After that, you just click **Go to Amazon QuickSight**.\n",
    "\n",
    "![example](images/7.png)"
   ]
  },
  {
   "cell_type": "markdown",
   "id": "274a68a0",
   "metadata": {},
   "source": [
    "## Step 2: Create a new dataset\n",
    "\n",
    "Once inside QuickSight, choose **Datasets** and then **New dataset**.\n",
    "\n",
    "![example](images/8.png)"
   ]
  },
  {
   "cell_type": "markdown",
   "id": "614f08e5",
   "metadata": {},
   "source": [
    "Select **S3** as an option for the location of the dataset that you will import.\n",
    "\n",
    "![example](images/9.png)"
   ]
  },
  {
   "cell_type": "markdown",
   "id": "130fd081",
   "metadata": {},
   "source": [
    "In \"New S3 data source\" select the S3 URI where the dataset is located. You can copy-paste this URI from the second cell before the end, in the `customer_churn.ipynb`.\n",
    "\n",
    "You have to also upload a manifest JSON file that describers the schema of this dataset. In the final cell of `customer_churn.ipynb`, this file is generated for you. Just download the `manifest.json` file locally, and then uploaded in QuickSight.\n",
    "\n",
    "![example](images/10.png)"
   ]
  },
  {
   "cell_type": "markdown",
   "id": "897debf2",
   "metadata": {},
   "source": [
    "After that, you will receive a confirmation that the dataset creation process was finished. You can either now click **Edit/Preview data** to explore the original dataset, or directly select **Augment with SageMaker** in order to import the outputs of an inference pipeline.\n",
    "\n",
    "![example](images/11.png)"
   ]
  },
  {
   "cell_type": "markdown",
   "id": "cfdb93f3",
   "metadata": {},
   "source": [
    "## Step 3: Augment the dataset with the outputs of a SageMaker model\n",
    "\n",
    "Either directly from the dataset confirmation window, or from the dataset exploration page, click **Augment with SageMaker**.\n",
    "\n",
    "![example](images/12.png)"
   ]
  },
  {
   "cell_type": "markdown",
   "id": "80a4de97",
   "metadata": {},
   "source": [
    "After that, you will have to select the SageMaker model that you will use, as well as, a schema JSON file that describes the input / outputs and additional properties of the model. In our case, the model name will start with `QS-inference-pipeline-xxx`. The schema JSON file is already included in the repository that you have cloned. Just download the `Churn_schema.json` file locally, and then upload it to QuickSight. After that, you will see a preview of the inputs and outputs of the model.\n",
    "\n",
    "![example](images/13.png)"
   ]
  },
  {
   "cell_type": "markdown",
   "id": "0e30bba9",
   "metadata": {},
   "source": [
    "QuickShight attempts to match the fields between the dataset and the model schemas. If there is no direct match for some fields, you can manually select the appropriate one. Here just select the `Int'l Plan` for the field `Intl Plan`. Then click Next. \n",
    "\n",
    "![example](images/14.png)"
   ]
  },
  {
   "cell_type": "markdown",
   "id": "7ce23a53",
   "metadata": {},
   "source": [
    "After that you will be asked to review the model's output name, and add a description. You can finish the importing process by clicking **Prepare data**.\n",
    "\n",
    "![example](images/15.png)"
   ]
  },
  {
   "cell_type": "markdown",
   "id": "4200208a",
   "metadata": {},
   "source": [
    "\n",
    "This adds an additional column (called *Churn*) at the dataset on your dataset, which will come from the outputs of the SageMaker model. \n",
    "If now you click **SAVE & PUBLISH** on the upper right corner of the screen, this will save the whole dataset and it will trigger SageMaker to run a **Batch Transform** inference prediction job, in order to get the outputs predictions for your dataset. Depending on the size of the dataset and the model pipeline, this will take a few minutes  up to hours. In our case, it will take approximately 7 minutes. \n",
    "\n",
    "![example](images/16.png)"
   ]
  },
  {
   "cell_type": "markdown",
   "id": "a9596f2c",
   "metadata": {},
   "source": [
    "Clicking **PUBLISH & VISUALIZE** will take you to the visualization window. There you will be able to use the predicted values of the model and include them in graphs and dashboards. \n",
    "\n",
    "![example](images/17.png)"
   ]
  },
  {
   "cell_type": "markdown",
   "id": "2410c97a",
   "metadata": {},
   "source": [
    "For more directions on how to create visualizations for this example, please follow the steps of this [blog post](https://aws.amazon.com/blogs/machine-learning/making-machine-learning-predictions-in-amazon-quicksight-and-amazon-sagemaker)"
   ]
  }
 ],
 "metadata": {
  "kernelspec": {
   "display_name": "conda_python3",
   "language": "python",
   "name": "conda_python3"
  },
  "language_info": {
   "codemirror_mode": {
    "name": "ipython",
    "version": 3
   },
   "file_extension": ".py",
   "mimetype": "text/x-python",
   "name": "python",
   "nbconvert_exporter": "python",
   "pygments_lexer": "ipython3",
   "version": "3.8.12"
  }
 },
 "nbformat": 4,
 "nbformat_minor": 5
}
